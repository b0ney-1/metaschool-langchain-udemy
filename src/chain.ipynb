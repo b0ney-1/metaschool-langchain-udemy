{
  "cells": [
    {
      "cell_type": "markdown",
      "metadata": {},
      "source": [
        "# Embeddings and Vector Database Setup\n",
        "\n",
        "Required:\n",
        "- OpenAI API key in `.env`\n",
        "- Pinecone API key in `.env`\n",
        "- customers-100.csv file in current directory"
      ]
    },
    {
      "cell_type": "code",
      "execution_count": null,
      "metadata": {},
      "source": [
        "import os\n",
        "from dotenv import load_dotenv\n",
        "import pinecone\n",
        "from langchain_openai import OpenAIEmbeddings\n",
        "from langchain_community.document_loaders import CSVLoader\n",
        "\n",
        "load_dotenv()\n",
        "\n",
        "PINECONE_API_KEY = os.getenv('PINECONE_API_KEY')\n",
        "PINECONE_ENV = os.getenv('PINECONE_ENV')\n",
        "OPENAI_API_KEY = os.getenv('OPENAI_API_KEY')"
      ]
    },
    {
      "cell_type": "markdown",
      "metadata": {},
      "source": ["## Understanding Embeddings"]
    },
    {
      "cell_type": "code",
      "execution_count": null,
      "metadata": {},
      "source": [
        "embeddings = OpenAIEmbeddings()\n",
        "\n",
        "# Example text to vector conversion\n",
        "text = \"Software Engineer with 5 years experience\"\n",
        "vector = embeddings.embed_query(text)\n",
        "\n",
        "print(f\"Vector dimension: {len(vector)}\")\n",
        "print(f\"First 5 values: {vector[:5]}\")"
      ]
    },
    {
      "cell_type": "markdown",
      "metadata": {},
      "source": ["## Initialize Pinecone"]
    },
    {
      "cell_type": "code",
      "execution_count": null,
      "metadata": {},
      "source": [
        "pinecone.init(\n",
        "    api_key=PINECONE_API_KEY,\n",
        "    environment=PINECONE_ENV\n",
        ")\n",
        "\n",
        "index_name = 'employee-index'\n",
        "\n",
        "if index_name not in pinecone.list_indexes():\n",
        "    pinecone.create_index(\n",
        "        name=index_name,\n",
        "        dimension=1536,\n",
        "        metric='cosine'\n",
        "    )\n",
        "\n",
        "index = pinecone.Index(index_name)"
      ]
    },
    {
      "cell_type": "markdown",
      "metadata": {},
      "source": ["## Load and Store Employee Data"]
    },
    {
      "cell_type": "code",
      "execution_count": null,
      "metadata": {},
      "source": [
        "# Load CSV data\n",
        "loader = CSVLoader(\n",
        "    file_path=\"customers-100.csv\",\n",
        "    csv_args={\n",
        "        'delimiter': ',',\n",
        "        'quotechar': '\"'\n",
        "    }\n",
        ")\n",
        "documents = loader.load()\n",
        "\n",
        "# Create embeddings and store\n",
        "for i, doc in enumerate(documents):\n",
        "    vector = embeddings.embed_query(doc.page_content)\n",
        "    \n",
        "    index.upsert([\n",
        "        (f\"emp{i}\", vector, {\n",
        "            \"text\": doc.page_content,\n",
        "            **doc.metadata\n",
        "        })\n",
        "    ])\n",
        "\n",
        "print(f\"Stored {len(documents)} employee records\")"
      ]
    },
    {
      "cell_type": "markdown",
      "metadata": {},
      "source": ["## Search Examples"]
    },
    {
      "cell_type": "code",
      "execution_count": null,
      "metadata": {},
      "source": [
        "def search_employees(query, top_k=3):\n",
        "    query_vector = embeddings.embed_query(query)\n",
        "    results = index.query(\n",
        "        vector=query_vector,\n",
        "        top_k=top_k,\n",
        "        include_metadata=True\n",
        "    )\n",
        "    \n",
        "    for match in results['matches']:\n",
        "        print(f\"Score: {match['score']:.2f}\")\n",
        "        print(f\"Employee Data: {match['metadata']['text']}\\n\")\n",
        "\n",
        "# Try some searches\n",
        "print(\"Searching for engineers:\")\n",
        "search_employees(\"Find me software engineers\")\n",
        "\n",
        "print(\"\\nSearching for managers:\")\n",
        "search_employees(\"Show me managers\")"
      ]
    },
    {
      "cell_type": "markdown",
      "metadata": {},
      "source": ["## Update and Delete Operations"]
    },
    {
      "cell_type": "code",
      "execution_count": null,
      "metadata": {},
      "source": [
        "# Update an employee record\n",
        "new_text = \"Updated employee information for emp0\"\n",
        "new_vector = embeddings.embed_query(new_text)\n",
        "\n",
        "index.upsert([\n",
        "    (\"emp0\", new_vector, {\"text\": new_text})\n",
        "])\n",
        "\n",
        "# Delete an employee record\n",
        "index.delete(ids=[\"emp1\"])\n",
        "\n",
        "# Check index statistics\n",
        "stats = index.describe_index_stats()\n",
        "print(\"Current index stats:\", stats)"
      ]
    }
  ],
  "metadata": {
    "kernelspec": {
      "display_name": "Python 3",
      "language": "python",
      "name": "python3"
    },
    "language_info": {
      "codemirror_mode": {
        "name": "ipython",
        "version": "3"
      },
      "file_extension": ".py",
      "mimetype": "text/x-python",
      "name": "python",
      "nbconvert_exporter": "python",
      "pygments_lexer": "ipython3",
      "version": "3.9.0"
    }
  },
  "nbformat": 4,
  "nbformat_minor": 4
}
