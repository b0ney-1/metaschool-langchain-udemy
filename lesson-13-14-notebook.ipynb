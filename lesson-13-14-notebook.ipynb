{
 "cells": [
  {
   "cell_type": "markdown",
   "metadata": {},
   "source": [
    "# Embeddings and Vector Database Setup\n",
    "\n",
    "Required setup:\n",
    "- OpenAI API key in `.env`\n",
    "- Pinecone API key in `.env`\n",
    "- Python packages from requirements.txt"
   ]
  },
  {
   "cell_type": "code",
   "execution_count": null,
   "metadata": {},
   "source": [
    "import os\n",
    "import pinecone\n",
    "from dotenv import load_dotenv\n",
    "from langchain_openai import OpenAIEmbeddings\n",
    "\n",
    "load_dotenv()\n",
    "\n",
    "PINECONE_API_KEY = os.getenv('PINECONE_API_KEY')\n",
    "PINECONE_ENV = os.getenv('PINECONE_ENV')\n",
    "OPENAI_API_KEY = os.getenv('OPENAI_API_KEY')"
   ]
  },
  {
   "cell_type": "markdown",
   "metadata": {},
   "source": [
    "## Text to Vector Conversion\n",
    "Demonstrating how text gets converted to vectors using OpenAI's embeddings"
   ]
  },
  {
   "cell_type": "code",
   "execution_count": null,
   "metadata": {},
   "source": [
    "embeddings = OpenAIEmbeddings()\n",
    "\n",
    "# Simple example\n",
    "text = \"Hello, world!\"\n",
    "vector = embeddings.embed_query(text)\n",
    "\n",
    "print(f\"Vector dimension: {len(vector)}\")\n",
    "print(f\"First few values: {vector[:5]}\")"
   ]
  },
  {
   "cell_type": "markdown",
   "metadata": {},
   "source": [
    "## Pinecone Setup"
   ]
  },
  {
   "cell_type": "code",
   "execution_count": null,
   "metadata": {},
   "source": [
    "pinecone.init(\n",
    "    api_key=PINECONE_API_KEY,\n",
    "    environment=PINECONE_ENV\n",
    ")\n",
    "\n",
    "index_name = 'demo-index'\n",
    "\n",
    "# Create if not exists\n",
    "if index_name not in pinecone.list_indexes():\n",
    "    pinecone.create_index(\n",
    "        name=index_name,\n",
    "        dimension=1536,\n",
    "        metric='cosine'\n",
    "    )\n",
    "\n",
    "index = pinecone.Index(index_name)"
   ]
  },
  {
   "cell_type": "markdown",
   "metadata": {},
   "source": [
    "## Store Data"
   ]
  },
  {
   "cell_type": "code",
   "execution_count": null,
   "metadata": {},
   "source": [
    "# Sample data\n",
    "documents = [\n",
    "    \"Python is a programming language\",\n",
    "    \"JavaScript runs in the browser\",\n",
    "    \"Databases store information\"\n",
    "]\n",
    "\n",
    "# Create embeddings\n",
    "vectors = [embeddings.embed_query(doc) for doc in documents]\n",
    "\n",
    "# Store in Pinecone\n",
    "for i, (doc, vec) in enumerate(zip(documents, vectors)):\n",
    "    index.upsert([\n",
    "        (f\"doc{i}\", vec, {\"text\": doc})\n",
    "    ])"
   ]
  },
  {
   "cell_type": "markdown",
   "metadata": {},
   "source": [
    "## Search Similar Items"
   ]
  },
  {
   "cell_type": "code",
   "execution_count": null,
   "metadata": {},
   "source": [
    "# Query example\n",
    "query = \"What programming languages are mentioned?\"\n",
    "query_vector = embeddings.embed_query(query)\n",
    "\n",
    "results = index.query(\n",
    "    vector=query_vector,\n",
    "    top_k=2,\n",
    "    include_metadata=True\n",
    ")\n",
    "\n",
    "for match in results['matches']:\n",
    "    print(f\"Score: {match['score']:.2f}\")\n",
    "    print(f\"Text: {match['metadata']['text']}\\n\")"
   ]
  },
  {
   "cell_type": "markdown",
   "metadata": {},
   "source": [
    "## Update and Delete"
   ]
  },
  {
   "cell_type": "code",
   "execution_count": null,
   "metadata": {},
   "source": [
    "# Update example\n",
    "new_text = \"Python is a versatile programming language\"\n",
    "new_vector = embeddings.embed_query(new_text)\n",
    "\n",
    "index.upsert([\n",
    "    (\"doc0\", new_vector, {\"text\": new_text})\n",
    "])\n",
    "\n",
    "# Delete example\n",
    "index.delete(ids=[\"doc2\"])\n",
    "\n",
    "# Check stats\n",
    "print(index.describe_index_stats())"
   ]
  }
 ],
 "metadata": {
  "kernelspec": {
   "display_name": "Python 3",
   "language": "python",
   "name": "python3"
  },
  "language_info": {
   "codemirror_mode": {
    "name": "ipython",
    "version": 3"
   },
   "file_extension": ".py",
   "mimetype": "text/x-python",
   "name": "python",
   "nbconvert_exporter": "python",
   "pygments_lexer": "ipython3",
   "version": "3.9.0"
  }
 },
 "nbformat": 4,
 "nbformat_minor": 4
}
